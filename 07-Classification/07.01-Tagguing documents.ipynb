{
 "cells": [
  {
   "cell_type": "markdown",
   "metadata": {},
   "source": [
    "## Labeliser des documents\n",
    "\n",
    "Un llm peut être utilisée afin de classifier (labéliser) un document. Ces labels peuvent être extrêmement divers:\n",
    "* Sentiment\n",
    "* Langage\n",
    "* Style (formel, informel etc.)\n",
    "* Sujets du document\n",
    "* Tendance pollitique\n",
    "\n",
    "\n",
    "La classification requiert deux composants:\n",
    "* une `function` permettant de spécifier comment le modèle doit tagguer le document\n",
    "* un `schema` définissant les labels souhaités\n",
    "\n",
    "La `fonction` est assurée directement par Lanchain (via l'utilisation de `with_structured_output` sur le modèle).\n",
    "\n",
    "Le `schema` lui est adapté selon notre besoin. \n",
    "\n",
    "Ici nous créons un premier schma `BasicClassification` afin d'extraire le sentiment, le ton, l'agressivité et le langue du document.\n",
    "\n"
   ]
  },
  {
   "cell_type": "code",
   "execution_count": null,
   "metadata": {},
   "outputs": [],
   "source": [
    "from langchain_core.prompts import ChatPromptTemplate\n",
    "from langchain_openai import ChatOpenAI\n",
    "from pydantic import BaseModel, Field\n",
    "\n",
    "tagging_prompt = ChatPromptTemplate.from_template(\n",
    "\"\"\"\n",
    "Extract the desired information from the following passage.\n",
    "\n",
    "Only extract the properties mentioned in the 'Classification' function.\n",
    "\n",
    "Passage:\n",
    "{input}\n",
    "\"\"\"\n",
    ")\n",
    "\n",
    "\n",
    "class BasicClassification(BaseModel):\n",
    "    sentiment: str = Field(        \n",
    "        ...,\n",
    "        description=\"The sentiment of the text\"),\n",
    "    tone: str = Field(        \n",
    "        ...,\n",
    "        description=\"The tone of the text\"),\n",
    "    aggressiveness: int = Field(\n",
    "        ...,\n",
    "        description=\"describes how aggressive the statement is, the higher the number the more aggressive\",\n",
    "    )\n",
    "    language: str = Field(        \n",
    "        ...,\n",
    "        description=\"The language the text is written in\")\n",
    "\n",
    "\n",
    "# LLM\n",
    "llm_basic_classification = ChatOpenAI(temperature=0, model=\"gpt-4o\").with_structured_output(\n",
    "BasicClassification\n",
    ")\n",
    "\n",
    "basic_tagging_chain = tagging_prompt | llm_basic_classification"
   ]
  },
  {
   "cell_type": "code",
   "execution_count": null,
   "metadata": {},
   "outputs": [],
   "source": [
    "input = \"Estoy increiblemente contento de haberte conocido! Creo que seremos muy buenos amigos!\"\n",
    "res = basic_tagging_chain.invoke({\"input\": input})\n",
    "res.dict()"
   ]
  },
  {
   "cell_type": "code",
   "execution_count": null,
   "metadata": {},
   "outputs": [],
   "source": [
    "input = \"Weather is ok here, I can go outside without much more than a coat\"\n",
    "res = basic_tagging_chain.invoke({\"input\": input})\n",
    "res.dict()"
   ]
  },
  {
   "cell_type": "markdown",
   "metadata": {},
   "source": [
    "Pour améliorer les résultats, nous pouvons créons un nouveau schéma pour guider d'avanatge le modèle sur ce que l'on attend de lui."
   ]
  },
  {
   "cell_type": "code",
   "execution_count": null,
   "metadata": {},
   "outputs": [],
   "source": [
    "class Classification(BaseModel):\n",
    "    sentiment: str = Field(..., enum=[\"happy\", \"neutral\", \"sad\"])\n",
    "    aggressiveness: int = Field(\n",
    "        ...,\n",
    "        description=\"describes how aggressive the statement is, the higher the number the more aggressive\",\n",
    "        enum=[1, 2, 3, 4, 5],\n",
    "    )\n",
    "    tone: str = Field(        \n",
    "    ...,\n",
    "    description=\"The tone of the text\",\n",
    "    enum=[\"formal\", \"informal\", \"neutral\"]),\n",
    "    language: str = Field(\n",
    "        ...,\n",
    "        description=\"The language the text is written in\",\n",
    "        enum=[\"spanish\", \"english\", \"french\", \"german\", \"italian\"]\n",
    "    )\n",
    "\n",
    "basic_tagging_chain = tagging_prompt | llm_basic_classification\n",
    "\n",
    "input = \"Weather is ok here, I can go outside without much more than a coat\"\n",
    "res = basic_tagging_chain.invoke({\"input\": input})\n",
    "res.dict()"
   ]
  }
 ],
 "metadata": {
  "kernelspec": {
   "display_name": ".venv",
   "language": "python",
   "name": "python3"
  },
  "language_info": {
   "codemirror_mode": {
    "name": "ipython",
    "version": 3
   },
   "file_extension": ".py",
   "mimetype": "text/x-python",
   "name": "python",
   "nbconvert_exporter": "python",
   "pygments_lexer": "ipython3",
   "version": "3.10.12"
  }
 },
 "nbformat": 4,
 "nbformat_minor": 2
}
