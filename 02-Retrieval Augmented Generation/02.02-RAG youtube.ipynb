{
 "cells": [
  {
   "cell_type": "markdown",
   "metadata": {},
   "source": [
    "### RETRIEVAL AUGMENTED GENERATION - Youtube\n",
    "\n",
    "Exemple de RAG basé sur des vidéos Youtube."
   ]
  },
  {
   "cell_type": "markdown",
   "metadata": {},
   "source": [
    "#### Prérequis\n",
    "\n",
    "Installer ffmpeg et l'ajouter au path de la machine\n",
    "\n",
    "```bash\n",
    "sudo apt update && sudo apt upgrade\n",
    "sudo apt install ffmpeg\n",
    "export PATH=$PATH:/usr/bin/ffmpeg\n",
    "```"
   ]
  },
  {
   "cell_type": "markdown",
   "metadata": {},
   "source": [
    "#### Load\n",
    "\n",
    "Le chargement des sources se fait exactement de la même manière que pour des documents texte. \n",
    "\n",
    "Nous utilisons simplement un loader adapté à notre source, ici une combinaison de `YoutubeAudioLoader` pour le téléchargement de la piste audio des vidéos et `OpenAIWhisperer` pour la transcription audio => texte."
   ]
  },
  {
   "cell_type": "code",
   "execution_count": 1,
   "metadata": {},
   "outputs": [
    {
     "name": "stdout",
     "output_type": "stream",
     "text": [
      "[youtube] Extracting URL: https://youtu.be/3caCwH2MSIk\n",
      "[youtube] 3caCwH2MSIk: Downloading webpage\n",
      "[youtube] 3caCwH2MSIk: Downloading ios player API JSON\n",
      "[youtube] 3caCwH2MSIk: Downloading player e38bb6de\n"
     ]
    },
    {
     "name": "stderr",
     "output_type": "stream",
     "text": [
      "WARNING: [youtube] 3caCwH2MSIk: nsig extraction failed: You may experience throttling for some formats\n",
      "         n = TC7zCck9tC8i_D15 ; player = https://www.youtube.com/s/player/e38bb6de/player_ias.vflset/en_US/base.js\n",
      "WARNING: [youtube] 3caCwH2MSIk: nsig extraction failed: You may experience throttling for some formats\n",
      "         n = F5llQHbDKbQdEuPm ; player = https://www.youtube.com/s/player/e38bb6de/player_ias.vflset/en_US/base.js\n"
     ]
    },
    {
     "name": "stdout",
     "output_type": "stream",
     "text": [
      "[youtube] 3caCwH2MSIk: Downloading m3u8 information\n",
      "[info] 3caCwH2MSIk: Downloading 1 format(s): 140\n",
      "[download] Destination: ../__downloads__/Notre CEO se confie.m4a\n",
      "[download] 100% of    3.93MiB in 00:00:01 at 2.13MiB/s   \n",
      "[FixupM4a] Correcting container of \"../__downloads__/Notre CEO se confie.m4a\"\n",
      "[ExtractAudio] Not converting audio ../__downloads__/Notre CEO se confie.m4a; file is already in target format m4a\n",
      "[youtube] Extracting URL: https://youtu.be/JlodpOubfqE\n",
      "[youtube] JlodpOubfqE: Downloading webpage\n",
      "[youtube] JlodpOubfqE: Downloading ios player API JSON\n",
      "[youtube] JlodpOubfqE: Downloading player e38bb6de\n"
     ]
    },
    {
     "name": "stderr",
     "output_type": "stream",
     "text": [
      "WARNING: [youtube] JlodpOubfqE: nsig extraction failed: You may experience throttling for some formats\n",
      "         n = _IG5grL1nZIeEaGV ; player = https://www.youtube.com/s/player/e38bb6de/player_ias.vflset/en_US/base.js\n",
      "WARNING: [youtube] JlodpOubfqE: nsig extraction failed: You may experience throttling for some formats\n",
      "         n = K151q6CsvKjGm-5M ; player = https://www.youtube.com/s/player/e38bb6de/player_ias.vflset/en_US/base.js\n"
     ]
    },
    {
     "name": "stdout",
     "output_type": "stream",
     "text": [
      "[youtube] JlodpOubfqE: Downloading m3u8 information\n",
      "[info] JlodpOubfqE: Downloading 1 format(s): 140\n",
      "[download] Destination: ../__downloads__/Qui sommes-nous ？.m4a\n",
      "[download] 100% of    2.67MiB in 00:00:01 at 2.41MiB/s   \n",
      "[FixupM4a] Correcting container of \"../__downloads__/Qui sommes-nous ？.m4a\"\n",
      "[ExtractAudio] Not converting audio ../__downloads__/Qui sommes-nous ？.m4a; file is already in target format m4a\n",
      "Transcribing part 1!\n",
      "Transcribing part 1!\n"
     ]
    }
   ],
   "source": [
    "from dotenv import load_dotenv\n",
    "load_dotenv()\n",
    "\n",
    "from langchain_community.document_loaders.blob_loaders.youtube_audio import (\n",
    "    YoutubeAudioLoader,\n",
    ")\n",
    "from langchain_community.document_loaders.generic import GenericLoader\n",
    "from langchain.document_loaders.parsers.audio import OpenAIWhisperParser\n",
    "\n",
    "# URLS of target videos\n",
    "urls = [\"https://youtu.be/3caCwH2MSIk\", \"https://youtu.be/JlodpOubfqE\"]\n",
    "\n",
    "#LOAD\n",
    "loader = GenericLoader(YoutubeAudioLoader(urls, \"../__downloads__\"), OpenAIWhisperParser())\n",
    "docs = loader.load()"
   ]
  },
  {
   "cell_type": "markdown",
   "metadata": {},
   "source": [
    "#### Split | Embed | Store\n",
    "\n",
    "La partie split/embed/store est-elle rigoureusement la même."
   ]
  },
  {
   "cell_type": "code",
   "execution_count": 2,
   "metadata": {},
   "outputs": [],
   "source": [
    "from langchain_text_splitters import RecursiveCharacterTextSplitter\n",
    "from langchain_community.vectorstores.redis import Redis\n",
    "from langchain_openai import ChatOpenAI, OpenAIEmbeddings\n",
    "import os\n",
    "from langchain.chains import RetrievalQA\n",
    "\n",
    "#SPLIT\n",
    "combined_docs = [doc.page_content for doc in docs]\n",
    "text = \" \".join(combined_docs)\n",
    "text_splitter = RecursiveCharacterTextSplitter(chunk_size=1500, chunk_overlap=150)\n",
    "splits = text_splitter.split_text(text)\n",
    "\n",
    "#EMBED & STORE\n",
    "vectorstore = Redis.from_texts(\n",
    "    splits,\n",
    "    OpenAIEmbeddings(),\n",
    "    redis_url=os.getenv(\"REDIS_URL\"),\n",
    "    index_name=\"genai_in_action_youtube_rag\",\n",
    ")"
   ]
  },
  {
   "cell_type": "markdown",
   "metadata": {},
   "source": [
    "#### Chaîne finale\n",
    "\n",
    "De la même manière la chaîne ne change pas."
   ]
  },
  {
   "cell_type": "code",
   "execution_count": 3,
   "metadata": {},
   "outputs": [],
   "source": [
    "from langchain.schema.output_parser import StrOutputParser\n",
    "from operator import itemgetter\n",
    "from langchain_core.prompts import ChatPromptTemplate\n",
    "\n",
    "prompt = ChatPromptTemplate.from_messages(\n",
    "  (\"human\", \n",
    "   \"\"\"You are an assistant for question-answering tasks about HR questions in a company named Younup. \n",
    "   Use the following pieces of retrieved context to answer the question. \n",
    "   If you don't know the answer, just say that you don't know. \n",
    "   Use three sentences maximum and keep the answer concise.\n",
    "    Question: {question} \n",
    "    Context: {context} \n",
    "    Answer:\"\"\"\n",
    "    ))\n",
    "\n",
    "def format_docs(docs):\n",
    "    return \"\\n\\n\".join(doc.page_content for doc in docs)\n",
    "\n",
    "qa_chain = rag_chain = (\n",
    "    # Runnable parallèles\n",
    "    {\n",
    "        \"context\": itemgetter(\"question\") | vectorstore.as_retriever() | format_docs, \n",
    "        \"question\": itemgetter(\"question\"), \n",
    "        \"history\": itemgetter(\"history\")\n",
    "    }\n",
    "    # Runnable séquentiels\n",
    "    | prompt\n",
    "    | ChatOpenAI(model=\"gpt-3.5-turbo\")\n",
    "    | StrOutputParser()\n",
    ")\n",
    "\n"
   ]
  },
  {
   "cell_type": "code",
   "execution_count": 4,
   "metadata": {},
   "outputs": [
    {
     "name": "stderr",
     "output_type": "stream",
     "text": [
      "score_threshold is deprecated. Use distance_threshold instead.score_threshold should only be used in similarity_search_with_relevance_scores.score_threshold will be removed in a future release.\n"
     ]
    },
    {
     "data": {
      "text/plain": [
       "\"La principale fierté de Younup est d'avoir réussi à conserver son ADN initial malgré sa croissance de 2 à 150 employés. L'entreprise met l'accent sur son approche customer-centric et son esprit de service. Younup se distingue par son agilité, sa flexibilité et son engagement envers la qualité de ses services.\""
      ]
     },
     "execution_count": 4,
     "metadata": {},
     "output_type": "execute_result"
    }
   ],
   "source": [
    "# Ask a question!\n",
    "question = \"Quelle est la principale fièrté de Younup ?\"\n",
    "qa_chain.invoke({\n",
    "    \"question\":question, \n",
    "    \"history\": [] \n",
    "})"
   ]
  }
 ],
 "metadata": {
  "kernelspec": {
   "display_name": "meetup_genai",
   "language": "python",
   "name": "python3"
  },
  "language_info": {
   "codemirror_mode": {
    "name": "ipython",
    "version": 3
   },
   "file_extension": ".py",
   "mimetype": "text/x-python",
   "name": "python",
   "nbconvert_exporter": "python",
   "pygments_lexer": "ipython3",
   "version": "3.10.12"
  }
 },
 "nbformat": 4,
 "nbformat_minor": 2
}
