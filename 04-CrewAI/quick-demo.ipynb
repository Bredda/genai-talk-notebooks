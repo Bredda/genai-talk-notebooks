{
 "cells": [
  {
   "cell_type": "code",
   "execution_count": 36,
   "metadata": {},
   "outputs": [
    {
     "name": "stderr",
     "output_type": "stream",
     "text": [
      "/usr/lib/python3.12/pty.py:95: DeprecationWarning: This process (pid=5633) is multi-threaded, use of forkpty() may lead to deadlocks in the child.\n",
      "  pid, fd = os.forkpty()\n"
     ]
    },
    {
     "name": "stdout",
     "output_type": "stream",
     "text": [
      "\n",
      "\u001b[1m[\u001b[0m\u001b[34;49mnotice\u001b[0m\u001b[1;39;49m]\u001b[0m\u001b[39;49m A new release of pip is available: \u001b[0m\u001b[31;49m24.2\u001b[0m\u001b[39;49m -> \u001b[0m\u001b[32;49m24.3.1\u001b[0m\n",
      "\u001b[1m[\u001b[0m\u001b[34;49mnotice\u001b[0m\u001b[1;39;49m]\u001b[0m\u001b[39;49m To update, run: \u001b[0m\u001b[32;49mpip install --upgrade pip\u001b[0m\n",
      "Note: you may need to restart the kernel to use updated packages.\n"
     ]
    },
    {
     "data": {
      "text/plain": [
       "True"
      ]
     },
     "execution_count": 36,
     "metadata": {},
     "output_type": "execute_result"
    }
   ],
   "source": [
    "%pip install crewai crewai-tools python-dotenv langchain-openai -q\n",
    "\n",
    "from dotenv import load_dotenv\n",
    "load_dotenv()"
   ]
  },
  {
   "cell_type": "markdown",
   "metadata": {},
   "source": [
    "### Agent definition\n",
    "\n",
    "Key Components of a CrewAI Agent:\n",
    "\n",
    "Role: Defines the agent’s function or position within the system. For example, an agent could be assigned the role of a “Data Researcher” or “Reporting Analyst.”\n",
    "Goal: Specifies the objective the agent aims to achieve. This provides direction for the agent’s actions and decisions.\n",
    "Backstory: Offers contextual information or a narrative that can influence the agent’s behavior and interactions.\n",
    "Tools: Agents can be equipped with tools to extend their capabilities, such as web search engines or data analysis utilities.\n",
    "Configuration: Agents are configured using YAML files, allowing for modular and flexible setups."
   ]
  },
  {
   "cell_type": "code",
   "execution_count": 37,
   "metadata": {},
   "outputs": [],
   "source": [
    "from crewai import Agent\n",
    "from langchain_openai import ChatOpenAI\n",
    "from crewai_tools import SerperDevTool\n",
    "\n",
    "\n",
    "researcher = Agent(\n",
    "    role=\"{topic} Senior Researcher\",\n",
    "    goal=\"\"\"Uncover groundbreaking technologies in the field of {topic} for year 2024\"\"\",\n",
    "    backstory=\"\"\"Driven by curiosity, you explore an share the latest innovations\"\"\",\n",
    "    tools=[SerperDevTool()],\n",
    "    llm=ChatOpenAI(model=\"gpt-4o-mini\"), \n",
    ")"
   ]
  },
  {
   "cell_type": "markdown",
   "metadata": {},
   "source": [
    "### Task definition"
   ]
  },
  {
   "cell_type": "code",
   "execution_count": 38,
   "metadata": {},
   "outputs": [],
   "source": [
    "from crewai import Task\n",
    "\n",
    "reasearch_task = Task(\n",
    "    description=\"\"\"Identify the next big trend in {topic} with pros and cons\"\"\",\n",
    "    expected_output=\"\"\"A detailed report on emerging technologies in the field of {topic}\"\"\",\n",
    "    agent=researcher)"
   ]
  },
  {
   "cell_type": "markdown",
   "metadata": {},
   "source": [
    "### Run"
   ]
  },
  {
   "cell_type": "code",
   "execution_count": 39,
   "metadata": {},
   "outputs": [
    {
     "name": "stderr",
     "output_type": "stream",
     "text": [
      "2025-01-07 16:19:05,326 - 140329200583296 - __init__.py-__init__:537 - WARNING: Overriding of current TracerProvider is not allowed\n"
     ]
    },
    {
     "name": "stdout",
     "output_type": "stream",
     "text": [
      "\u001b[1m\u001b[95m# Agent:\u001b[00m \u001b[1m\u001b[92mAI Agents Senior Researcher\u001b[00m\n",
      "\u001b[95m## Task:\u001b[00m \u001b[92mIdentify the next big trend in AI Agents with pros and cons\u001b[00m\n",
      "\n",
      "\n",
      "\u001b[1m\u001b[95m# Agent:\u001b[00m \u001b[1m\u001b[92mAI Agents Senior Researcher\u001b[00m\n",
      "\u001b[95m## Thought:\u001b[00m \u001b[92mI need to gather information on the emerging technologies and trends in the field of AI Agents for 2024. This will help me create a detailed report that meets the expected criteria.\u001b[00m\n",
      "\u001b[95m## Using tool:\u001b[00m \u001b[92mSearch the internet\u001b[00m\n",
      "\u001b[95m## Tool Input:\u001b[00m \u001b[92m\n",
      "\"{\\\"search_query\\\": \\\"emerging technologies in AI Agents 2024 trends pros cons\\\"}\"\u001b[00m\n",
      "\u001b[95m## Tool Output:\u001b[00m \u001b[92m\n",
      "{'searchParameters': {'q': 'emerging technologies in AI Agents 2024 trends pros cons', 'type': 'search', 'num': 10, 'engine': 'google'}, 'organic': [{'title': \"What are the risks and benefits of 'AI agents'? | World Economic Forum\", 'link': 'https://www.weforum.org/stories/2024/12/ai-agents-risks-artificial-intelligence/', 'snippet': 'With major companies launching AI agents, a new report explains the risks and benefits of these smart assistants that require minimal human ...', 'position': 1, 'sitelinks': [{'title': 'How Agentic AI will transform financial services', 'link': 'https://www.weforum.org/stories/2024/12/agentic-ai-financial-services-autonomy-efficiency-and-inclusion/'}, {'title': \"From decision-making to efficiency gains: Leaders at 'Summer ...\", 'link': 'https://www.weforum.org/stories/2024/07/artificial-intelligence-highlights-summer-davos/'}]}, {'title': 'AI Pulse: Top AI Trends from 2024 - A Look Back', 'link': 'https://www.trendmicro.com/en_us/research/25/a/top-ai-trends-from-2024-review.html', 'snippet': 'AI Comes Into Its Own. 2024 may go down as the year AI stopped being a technological novelty and became—more consequentially—a Fact of Life.', 'position': 2}, {'title': 'Explore the Pros & Cons of AI Agents - Sparkout Tech', 'link': 'https://www.sparkouttech.com/pros-cons-ai-agent/', 'snippet': 'AI agents can easily provide you with predictive insight where they can analyze historical data and predict future trends. If we take finance as ...', 'position': 3}, {'title': 'Artificial Intelligence - The most important AI trends in 2024 - IBM', 'link': 'https://www.ibm.com/think/insights/artificial-intelligence-trends', 'snippet': 'Adapting to emerging trends is essential to maximizing potential, minimizing risk and responsibly scaling generative AI adoption.', 'position': 4}, {'title': 'AI Agents in 2024: Trends Tech Enthusiasts Should Watch - Odin Blog', 'link': 'https://blog.getodin.ai/ai-agents-in-2024-trends-tech-enthusiasts-should-watch/', 'snippet': 'Explore the top 10 trends of AI agents in 2024, including Multi AI agents, personalized AI, and Large Language Models integration.', 'position': 5}, {'title': 'AI agents are unlike any technology ever - Computerworld', 'link': 'https://www.computerworld.com/article/3608973/ai-agents-are-unlike-any-technology-ever.html', 'snippet': 'Like so many technologies, AI will both improve and degrade human capability. Some users will lean on agentic AI like a crutch to never have to ...', 'position': 6}, {'title': 'What are the pros and cons of AI in 2024? - Quora', 'link': 'https://www.quora.com/What-are-the-pros-and-cons-of-AI-in-2024', 'snippet': 'Pros of AI in 2024: 1. Efficiency: AI enhances productivity across industries, automating tasks and streamlining processes. 2.', 'position': 7}, {'title': \"What's next for AI? - Deloitte\", 'link': 'https://www2.deloitte.com/us/en/insights/focus/tech-trends/2025/tech-trends-ai-agents-and-autonomous-ai.html', 'snippet': 'While large language models continue to advance, autonomous AI and AI agents are proving to be more effective at discrete tasks.', 'position': 8}, {'title': 'Beyond the Hype: How AI Agents and Regulations Will Shape 2025', 'link': 'https://medium.com/techwisdom-io/beyond-the-hype-how-ai-agents-and-regulations-will-shape-2025-4b8f4f571f1b', 'snippet': 'While AI content generation has pros and cons, the overall impact is positive, boosting productivity and efficiency.', 'position': 9}, {'title': 'What Is an AI Agent? A 2024 Guide to Understanding the Future.', 'link': 'https://aiagentsdirectory.com/blog/what-is-an-ai-agent-a-2024-guide-to-understanding-the-future', 'snippet': 'Discover what an AI agent is, how it functions, and why businesses are adopting AI agents to boost productivity and streamline operations.', 'position': 10}], 'peopleAlsoAsk': [{'question': 'What are the positives and negatives of new AI technology?', 'snippet': 'But beyond the headlines that either peddle hype or fear, what does AI do? The advantages range from streamlining, saving time, eliminating biases, and automating repetitive tasks, just to name a few. The disadvantages are things like costly implementation, potential human job loss, and lack of emotion and creativity.', 'title': 'What are the advantages and disadvantages of artificial ... - Tableau', 'link': 'https://www.tableau.com/data-insights/ai/advantages-disadvantages'}, {'question': 'What is the new AI technology in 2024?', 'snippet': \"One of Google's top AI priorities in 2024 was launching several new AI Agents offerings on Vertex AI, including Agent Builder and AI Search. Vertex AI is a natural language understanding platform built on large language models (LLMs).\", 'title': 'The 10 Coolest GenAI Products And AI Tools Of 2024 - CRN', 'link': 'https://www.crn.com/news/ai/2024/the-10-coolest-genai-products-and-ai-tools-of-2024'}, {'question': 'What is the projected value of the AI market by 2024?', 'snippet': 'Year\\nMarket Size\\nChange Over Previous Year\\n2024\\n$621.19 billion\\n↑ $105.88 billion\\n2025\\n$747.91 billion\\n↑ $126.72 billion\\n2026\\n$900.49 billion\\n↑ $152.58 billion\\n2027\\n$1.08 trillion\\n↑ $180.49 billion', 'title': 'AI Market Size Statistics (2025-2032) - Exploding Topics', 'link': 'https://explodingtopics.com/blog/ai-market-size-stats'}, {'question': 'What is the future trend in AI?', 'snippet': \"AI can now combine numeric data, text, images, and video to achieve more accurate and enhanced outcomes, paving the way for more comprehensive experiences. Another AI trend to keep an eye on in the coming years is multimodality. The term may sound fancy, but it's actually quite simple.\", 'title': '8 AI Trends To Look Out For in 2025 - Synthesia', 'link': 'https://www.synthesia.io/post/ai-trends'}], 'credits': 1}\u001b[00m\n",
      "\n",
      "\n",
      "\u001b[1m\u001b[95m# Agent:\u001b[00m \u001b[1m\u001b[92mAI Agents Senior Researcher\u001b[00m\n",
      "\u001b[95m## Final Answer:\u001b[00m \u001b[92m\n",
      "### Emerging Technologies in the Field of AI Agents - 2024\n",
      "\n",
      "As we progress through 2024, the landscape of AI Agents is evolving rapidly, characterized by several emerging technologies that promise to reshape industries and enhance human capabilities. Here’s a detailed report outlining the next big trends, along with their pros and cons.\n",
      "\n",
      "#### 1. **Multi-Agent Systems**\n",
      "Multi-agent systems involve multiple AI agents working together to solve complex problems. These systems can collaborate and communicate, mimicking social behaviors.\n",
      "\n",
      "**Pros:**\n",
      "- **Efficiency**: They can divide tasks among agents, leading to faster problem-solving.\n",
      "- **Scalability**: Easy to add more agents to enhance capabilities.\n",
      "- **Robustness**: Failure of one agent doesn't halt the operation of the system.\n",
      "\n",
      "**Cons:**\n",
      "- **Complex Coordination**: Requires sophisticated algorithms for agents to work together effectively.\n",
      "- **Higher Resource Requirements**: Can demand significant computational power.\n",
      "\n",
      "#### 2. **Personalized AI Agents**\n",
      "Personalized AI agents use data-driven insights to tailor their responses and actions to individual user preferences and behaviors.\n",
      "\n",
      "**Pros:**\n",
      "- **Enhanced User Experience**: Offers customized interactions, increasing user satisfaction.\n",
      "- **Predictive Capabilities**: Can anticipate user needs and provide proactive suggestions.\n",
      "\n",
      "**Cons:**\n",
      "- **Privacy Concerns**: Requires extensive data collection, raising potential privacy issues.\n",
      "- **Bias in Data**: If the training data is biased, the agent’s responses may reflect those biases.\n",
      "\n",
      "#### 3. **Integration of Large Language Models**\n",
      "The integration of Large Language Models (LLMs) into AI Agents allows for more natural and human-like conversations.\n",
      "\n",
      "**Pros:**\n",
      "- **Natural Interaction**: More intuitive communication with users.\n",
      "- **Contextual Understanding**: Better comprehension of user queries, leading to more accurate responses.\n",
      "\n",
      "**Cons:**\n",
      "- **Over-reliance on Data**: Performance hinges on the quality and diversity of the training data.\n",
      "- **Potential for Misinformation**: Can generate incorrect or misleading information if not properly monitored.\n",
      "\n",
      "#### 4. **Autonomous AI Agents**\n",
      "Autonomous AI agents operate independently to perform specific tasks without human intervention, such as in logistics and delivery.\n",
      "\n",
      "**Pros:**\n",
      "- **Increased Efficiency**: Can operate around the clock without breaks.\n",
      "- **Cost Savings**: Reduces the need for human labor in routine tasks.\n",
      "\n",
      "**Cons:**\n",
      "- **Job Displacement**: Potentially replaces jobs traditionally held by humans.\n",
      "- **Ethical Concerns**: Raises questions about accountability and decision-making.\n",
      "\n",
      "#### 5. **Agent-Based Decision Support Systems**\n",
      "These systems leverage AI agents to assist in decision-making processes across various sectors like finance, healthcare, and logistics.\n",
      "\n",
      "**Pros:**\n",
      "- **Data-Driven Insights**: Provides robust analyses and forecasts based on large datasets.\n",
      "- **Improved Outcomes**: Can lead to better decision-making and resource allocation.\n",
      "\n",
      "**Cons:**\n",
      "- **Dependence on Algorithms**: Over-reliance may undermine human judgment.\n",
      "- **Complexity in Implementation**: Requires significant investment in technology and training.\n",
      "\n",
      "### Conclusion\n",
      "The trends in AI Agents for 2024 indicate a significant shift towards more sophisticated, autonomous, and personalized systems. While the benefits are promising, including enhanced efficiency, improved user experience, and cost savings, there are also considerable challenges, particularly concerning privacy, ethical implications, and potential job displacement. Stakeholders must carefully navigate these pros and cons to harness the full potential of AI agents responsibly.\n",
      "\n",
      "For further information, you can explore the following resources:\n",
      "- [World Economic Forum - AI Agents: Risks and Benefits](https://www.weforum.org/stories/2024/12/ai-agents-risks-artificial-intelligence/)\n",
      "- [Sparkout Tech - Explore the Pros & Cons of AI Agents](https://www.sparkouttech.com/pros-cons-ai-agent/)\n",
      "- [Odin Blog - AI Agents in 2024 Trends](https://blog.getodin.ai/ai-agents-in-2024-trends-tech-enthusiasts-should-watch/)\u001b[00m\n",
      "\n",
      "\n"
     ]
    }
   ],
   "source": [
    "from crewai import Crew, Process\n",
    "\n",
    "crew = Crew(agents=[researcher], tasks=[reasearch_task], process=Process.sequential, verbose=True)\n",
    "\n",
    "result = crew.kickoff(inputs={\"topic\": \"AI Agents\"})\n"
   ]
  }
 ],
 "metadata": {
  "kernelspec": {
   "display_name": ".venv",
   "language": "python",
   "name": "python3"
  },
  "language_info": {
   "codemirror_mode": {
    "name": "ipython",
    "version": 3
   },
   "file_extension": ".py",
   "mimetype": "text/x-python",
   "name": "python",
   "nbconvert_exporter": "python",
   "pygments_lexer": "ipython3",
   "version": "3.12.8"
  }
 },
 "nbformat": 4,
 "nbformat_minor": 2
}
