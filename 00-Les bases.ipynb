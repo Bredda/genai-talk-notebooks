{
 "cells": [
  {
   "cell_type": "code",
   "execution_count": 12,
   "metadata": {},
   "outputs": [],
   "source": [
    "from dotenv import load_dotenv\n",
    "load_dotenv()\n",
    "\n",
    "from langchain_openai import ChatOpenAI\n",
    "o_mini = ChatOpenAI(model=\"gpt-4o-mini\")\n",
    "gpt35 = ChatOpenAI(model=\"gpt-3.5-turbo\", temperature=0.1)"
   ]
  },
  {
   "cell_type": "code",
   "execution_count": 22,
   "metadata": {},
   "outputs": [
    {
     "data": {
      "text/markdown": [
       "\n",
       "    prompt      : Le ciel est\n",
       "    completion  : bleu et dégagé, parsemé de quelques nuages blancs.\n"
      ],
      "text/plain": [
       "<IPython.core.display.Markdown object>"
      ]
     },
     "metadata": {},
     "output_type": "display_data"
    }
   ],
   "source": [
    "from IPython.display import display, Markdown, Latex\n",
    "\n",
    "\n",
    "question=\"Le ciel est\"\n",
    "response = gpt35.invoke(question)\n",
    "display(Markdown(f\"\"\"\n",
    "    prompt      : {question}\n",
    "    completion  : bleu et dégagé, parsemé de quelques nuages blancs.\n",
    "\"\"\"))"
   ]
  },
  {
   "cell_type": "code",
   "execution_count": null,
   "metadata": {},
   "outputs": [],
   "source": []
  },
  {
   "cell_type": "code",
   "execution_count": 24,
   "metadata": {},
   "outputs": [
    {
     "data": {
      "text/markdown": [
       "\n",
       "    prompt      : Combien y-a-t-il de lettre r dans le mot 'anticonstitutionnellement' ?\n",
       "    completion  : Dans le mot 'anticonstitutionnellement', il y a 2 lettres 'r'.\n"
      ],
      "text/plain": [
       "<IPython.core.display.Markdown object>"
      ]
     },
     "metadata": {},
     "output_type": "display_data"
    }
   ],
   "source": [
    "question=\"Combien y-a-t-il de lettre r dans le mot 'anticonstitutionnellement' ?\"\n",
    "response = o_mini.invoke(question)\n",
    "display(Markdown(f\"\"\"\n",
    "    prompt      : {question}\n",
    "    completion  : {response.content}\n",
    "\"\"\"))"
   ]
  },
  {
   "cell_type": "code",
   "execution_count": 25,
   "metadata": {},
   "outputs": [
    {
     "data": {
      "text/markdown": [
       "\n",
       "    prompt      : Bonjour Je m'appelle Laurent\n",
       "    completion  : Bonjour Laurent ! Comment puis-je vous aider aujourd'hui ?\n",
       "    prompt      : Quel est mon nom ?\n",
       "    completion  : Je ne peux pas connaître votre nom, car je n'ai pas accès à des informations personnelles. Comment puis-je vous aider autrement ?\n"
      ],
      "text/plain": [
       "<IPython.core.display.Markdown object>"
      ]
     },
     "metadata": {},
     "output_type": "display_data"
    }
   ],
   "source": [
    "question1 = \"Bonjour Je m'appelle Laurent\"\n",
    "response1 = o_mini.invoke(question1)\n",
    "question2 = \"Quel est mon nom ?\"\n",
    "response2 = o_mini.invoke(question2)\n",
    "display(Markdown(f\"\"\"\n",
    "    prompt      : {question1}\n",
    "    completion  : {response1.content}\n",
    "    prompt      : {question2}\n",
    "    completion  : {response2.content}\n",
    "\"\"\"))"
   ]
  },
  {
   "cell_type": "code",
   "execution_count": 26,
   "metadata": {},
   "outputs": [
    {
     "data": {
      "text/markdown": [
       "\n",
       "    prompt      : Qui a gagné les élections à la présidence des Etats-Unis ?\n",
       "    completion  : Les dernières élections présidentielles aux États-Unis ont eu lieu le 3 novembre 2020. Joe Biden, le candidat démocrate, a remporté cette élection en battant le président sortant Donald Trump. Joe Biden a été investi en tant que 46e président des États-Unis le 20 janvier 2021. Si vous recherchez des informations sur des élections plus récentes ou des événements ultérieurs, je ne dispose pas de ces données.\n"
      ],
      "text/plain": [
       "<IPython.core.display.Markdown object>"
      ]
     },
     "metadata": {},
     "output_type": "display_data"
    }
   ],
   "source": [
    "question1 = \"Qui a gagné les élections à la présidence des Etats-Unis ?\"\n",
    "response1 = o_mini.invoke(question1)\n",
    "\n",
    "display(Markdown(f\"\"\"\n",
    "    prompt      : {question1}\n",
    "    completion  : {response1.content}\n",
    "\"\"\"))"
   ]
  }
 ],
 "metadata": {
  "kernelspec": {
   "display_name": ".venv",
   "language": "python",
   "name": "python3"
  },
  "language_info": {
   "codemirror_mode": {
    "name": "ipython",
    "version": 3
   },
   "file_extension": ".py",
   "mimetype": "text/x-python",
   "name": "python",
   "nbconvert_exporter": "python",
   "pygments_lexer": "ipython3",
   "version": "3.12.7"
  }
 },
 "nbformat": 4,
 "nbformat_minor": 2
}
