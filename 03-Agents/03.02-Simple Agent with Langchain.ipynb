{
 "cells": [
  {
   "cell_type": "markdown",
   "metadata": {},
   "source": [
    "### Agent with tool\n",
    "\n",
    "<img src=\"../assets/agent_tools.png\" alt=\"drawing\" width=\"600\"/>"
   ]
  },
  {
   "cell_type": "markdown",
   "metadata": {},
   "source": [
    "Exemple d'un agent disposant d'un outil de type Recherche internet (via le service Tavily search)"
   ]
  },
  {
   "cell_type": "code",
   "execution_count": 1,
   "metadata": {},
   "outputs": [
    {
     "name": "stdout",
     "output_type": "stream",
     "text": [
      "2024-09-26\n"
     ]
    }
   ],
   "source": [
    "from dotenv import load_dotenv\n",
    "load_dotenv()\n",
    "from langchain_community.tools.tavily_search import TavilySearchResults\n",
    "from langchain.agents import AgentExecutor, create_openai_functions_agent\n",
    "from langchain_openai import ChatOpenAI\n",
    "from langchain_core.prompts import (\n",
    "    ChatPromptTemplate\n",
    ")\n",
    "from datetime import date\n",
    "\n",
    "now = date.today()\n",
    "print(now)\n",
    "instructions = \"\"\"You are an assistant. Today is {now}.\"\"\".format(now=now)"
   ]
  },
  {
   "cell_type": "code",
   "execution_count": 6,
   "metadata": {},
   "outputs": [
    {
     "name": "stderr",
     "output_type": "stream",
     "text": [
      "Error in StdOutCallbackHandler.on_chain_start callback: AttributeError(\"'NoneType' object has no attribute 'get'\")\n"
     ]
    },
    {
     "name": "stdout",
     "output_type": "stream",
     "text": [
      "\u001b[32;1m\u001b[1;3m\n",
      "Invoking: `tavily_search_results_json` with `{'query': 'dernières nouvelles en France hier'}`\n",
      "\n",
      "\n",
      "\u001b[0m\u001b[36;1m\u001b[1;3m[{'url': 'https://www.francetvinfo.fr/', 'content': 'du jeudi 30 novembre 2023\\nPrésenté par Alix Bouilhaguet\\nDiffusé le 30/11\\n9 min\\nLes derniers JT\\nJT de 13h du jeudi 30 novembre 2023\\nPrésenté par Julian Bugier\\nDiffusé le 30/11\\n44 min\\n12/13 info du jeudi 30 novembre 2023\\nPrésenté par Emilie Tran Nguyen\\nDiffusé le 30/11\\n59 min\\nL’info chez vous du jeudi 30 novembre 2023\\nPrésenté par Séverine Larrouy\\nDiffusé le 30/11\\n84 min\\nJT de 8h du jeudi 30 novembre 2023\\nPrésenté par Estelle Colin\\nDiffusé le 30/11\\n15 min\\nLe JT de la matinale du jeudi 30 novembre 2023\\nPrésenté par Jean-Baptiste Marteau, Marion Vigreux\\nDiffusé le 30/11\\n27 min\\n23h info du mercredi 29 novembre 2023\\nPrésenté par Alexandra Uzan\\nDiffusé le 29/11\\n57 min\\nPlanète info du mercredi 29 novembre 2023\\nPrésenté par Lucie Chaumette\\nDiffusé le 29/11\\n55 min\\nJT de 20h du mercredi 29 novembre 2023\\nPrésenté par Anne-Sophie Lapix\\nDiffusé le 29/11\\n40 min\\nLes émissions\\nComplément d\\'enquête sur France 2 : Replay de toutes les emissions\\nPrésenté par Tristan Waleckx\\nCash Investigation sur France 2 : Les informés de l\\'Europe\\nPrésenté par Jean-Rémi Baudot et François Beaudonnet\\nLes experts livres\\nPrésenté par Gilbert Chevalier, Jean-Christophe Ogier et Cécile Ribault-Caillol\\nLes experts cinéma\\nPrésenté par Thierry Fiorile et Matteu Maestracci\\nFrançais du monde\\nPrésenté par Emmanuel Langlois\\nfranceinfo senior\\nPrésenté par Frédérique Marié\\nC\\'est mon assiette\\nPrésenté par Bernard Thomasson\\nLe mot à la bouche\\nPrésenté par Thierry Marx et Bernard Thomasson\\nC\\'est mon budget\\nPrésenté par Fanny Guinochet\\nfranceinfo conso\\nPrésenté par Thomas Séchier et 60 Millions de consommateurs\\nL\\'empire des séries\\nPrésenté par Laurent Valière\\nC\\'est mon week-end\\nPrésenté par Ingrid Pohu\\nLe rendez-vous de la médiatrice\\nPrésenté par Emmanuelle Daviet\\nMicro européen\\nPrésenté par José-Manuel Lamarque\\nÀ vos marques\\nPrésenté par Victor Matet\\nLa playlist franceinfo\\nPrésenté par Service Culture de France Info\\nL’univers de franceinfo : Toutes les émissions en replay\\nPrésenté par Adrien Rohard\\nScan de franceinfo : Toutes les émissions en replay\\nVotre instant politique : Tous les replay de l\\'émission franceinfo\\nPrésenté par Gilles Bornstein\\nLe monde dans tous ses Etats de France Info : tous les replay\\nPrésenté par Raphaël Kahane\\nTemps additionnel de France Info : Tous les replay\\nPrésenté par Patrice Romedenne\\nL\\'éco de France Info : Toutes les interviews franceinfo en replay\\nPrésenté par David Delos\\nJouez avec France Info\\nSudoku\\nMots fléchés\\nMots croisés\\nMots mystères\\nSolitaire\\nAlphamo\\n7 erreurs\\nNos partenariats\\n\"Au-delà du contenu pédagogique, il y a des échanges très riches\"\\xa0: l\\'École du livre de jeunesse, émanation du Salon du livre jeunesse, transmet l\\'expertise en médiation littéraire\\nÉvènement : Futurapolis Planète, du 30 novembre au 2 décembre, au Quai des Savoirs à Toulouse\\nÉvènement : Médias en Seine, le festival international des médias de demain, revient le mercredi 22 novembre pour une sixième édition\\nCinéma : Tous les replay de l\\'émission de France Info\\nPrésenté par Julien Pain\\nToutes les émission 20h30 le samedi de France 2, direct, replay\\nPrésenté par Laurent Delahousse\\nEnvoyé spécial sur France 2 : Replay de toutes les émissions\\nPrésenté par Elise Lucet\\nL\\'info s\\'éclaire : Tous les replay de l\\'émission de France Info\\nPrésenté par Axel de Tarlé\\nDimanche en politique sur France 3 : tous les replay\\nPrésenté par Francis Letellier\\nNous les Européens : reportage France 2 en direct ou en replay\\nPrésenté par Eléonore Gay\\nAffaires sensibles sur France 2 : Replay de toutes les émissions\\nPrésenté par Fabrice Drouelle\\nINAttendu : Tous les replay de l\\'émission franceinfo\\nPrésenté par Nathanaël de Rincquesen\\nToutes les émission 20h30 le dimanche de France 2, direct, replay\\nPrésenté par Laurent Delahousse\\nToutes les émissions 13h15 de France 2 : The Pogues, Shane MacGowan, est mort à 65 ans\\n\"Avec ce taux-là, on ne permet pas de réduire la contamination\" : les autorités sanitaires alertent sur les taux de cadmium dans les sols et les engrais\\nLocations meublées touristiques : la \"niche fiscale Airbnb\" est une \"fiscalité pousse-au-crime\", estime Julien Bayou\\nSeine-Maritime : un formateur d\\'une école de police suspendu après avoir soumis des élèves à un simulacre de noyade\\n\"Nous allons vous neutraliser\"\\xa0: des menaces de mort envoyées à Gérald Darmanin, qui va porter plainte\\nClimat : Singapour envisage de créer des îles artificielles pour protéger son territoire contre la montée des eaux\\nMétéo : la Savoie, la Haute-Savoie, l\\'Isère et les Hautes-Alpes sont placées en vigilance orange pour pluie-inondations\\nIle-de-France : le nombre de ménages demandeurs de logement social a pratiquement doublé depuis 2010\\nNoël : plus d’un tiers des Français craint de ne pas pouvoir offrir de cadeaux, selon une étude\\nChine : quatre enfants sourds ont pu retrouver l’audition grâce à la thérapie génique\\nDonnées personnelles : l\\'UFC-Que Choisir dénonce les \"pratiques commerciales trompeuses\" de Meta\\nLe concert de Freeze Corleone au Zénith de Nantes interdit par la préfecture\\n(nouvelle fenêtre)\\n'}, {'url': 'https://www.france24.com/fr/france/', 'content': 'les Alpes Françaises, seule candidature retenue par le CIO\\nViolences sexuelles : le gourou d\\'un mouvement sectaire de yoga interpellé en France\\n\"Un homme d\\'État visionnaire\" : à Lyon, les derniers hommages à Gérard Collomb lors de ses obsèques\\nHandicaps invisibles, le combat de l\\'ombre\\nLes violences économiques dans le couple, un \"indicateur de dangerosité\" pour les femmes\\nDissuasion nucléaire : la France teste son nouveau missile M51.3 et le fait savoir\\nPolder, wateringues… Face aux inondations, le Pas-de-Calais réfléchit à adapter sa gestion de l\\'eau\\nGrand débat national : \"Une volonté politique de mettre sous cloche les témoignages\" des citoyens\\nAssassinat de Samuel Paty : le procès de six anciens collégiens s\\'ouvre à Paris\\nGérard Collomb, ancien maire de Lyon et ex-ministre de l\\'Intérieur, est mort\\nViolences faites aux femmes\\xa0: en France, des manifestations pour réclamer plus de moyens\\nLes violences économiques dans le couple, un \"indicateur de dangerosité\" pour les femmes\\nViolences faites aux femmes : une augmentation inquiétante en Outre-mer\\n\"On ne veut pas la Lune, on veut juste vivre\"\\xa0: que reste-il de la Marche des Beurs, il y a 40 ans ?\\n M51.3 et le fait savoir\\nLes Guadeloupéens n’ont plus confiance dans leur réseau d\\'eau\\nGrands Causses, roquefort et viaduc de Millau : l\\'Aveyron au naturel\\nEva Thomas, lanceuse d\\'alerte : \"L\\'inceste est une question de vie ou de mort\"\\nÉlisabeth Borne s\\'apprête à dévoiler son nouveau plan pour la protection de l\\'enfance\\nPolder, wateringues… Face aux inondations, le Pas-de-Calais réfléchit à adapter sa gestion de l\\'eau\\nUn chapeau de Napoléon vendu aux enchères à près de deux millions d\\'euros\\nGuerre Israël-Hamas : à Paris, une marche silencieuse pour la paix à l\\'appel du monde de la culture\\nFrance : nouvelles manifestations propalestiniennes pour un \"cessez-le-feu immédiat\" à Gaza\\nLe parti Horizons suspend le sénateur Joël Guerriau, soupçonné d\\'avoir drogué une députée\\nGrand débat national : \"Une volonté politique de mettre sous cloche les témoignages\" des citoyens\\nConsultez les archives France de tous les articles, émissions et vidéos de France 24 depuis 2008\\n Handicaps invisibles, le combat de l\\'ombre\\nViolences faites aux femmes : une augmentation inquiétante en Outre-mer\\n\"On ne veut pas la Lune, on veut juste vivre\"\\xa0: que reste-il de la Marche des Beurs, il y a 40 ans ?\\nEva Thomas, lanceuse d\\'alerte : \"L\\'inceste est une question de vie ou de mort\"\\nEn Martinique, une nouvelle alerte au chlordécone empoisonne l\\'île\\nLutte contre les violences faites aux femmes : le 25 novembre, une journée de mobilisation\\nGuerre en Ukraine\\xa0: Colonna compte sur la \"vigilance\" de Pékin contre tout soutien à la Russie\\nProcès Bygmalion en appel\\xa0: Nicolas Sarkozy \"conteste toute responsabilité pénale\"\\nLe Sénat ouvre la voie à la réhabilitation des condamnés pour homosexualité\\nAntisémitisme\\xa0: un chauffeur de taxi jugé en mai pour menaces de mort sur une famille à Orly\\nNapoléon Bonaparte, des sommets de la gloire à la solitude de l\\'exil\\nEn France, le Sénat s\\'empare du débat pour la réhabilitation des condamnés pour homosexualité\\nLe maire de Dakar en visite au Centre aquatique olympique de Seine-Saint-Denis\\nJournal d\\'Outre-mer du 29 novembre 2023\\nProcès d\\'Éric Dupond-Moretti: «Les affaires judiciaires dégradent l\\'image des personnalités politiques»\\nRestos du Cœur : inflation, précarité accrue, la 39e campagne s\\'annonce difficile\\nÀ Paris, l\\'association Parler en Paix œuvre en faveur du dialogue entre cultures arabe et juive\\nDissuasion nucléaire : France\\nLoi immigration\\xa0: la majorité rétablit comme prévu l\\'aide médicale d\\'État\\nJO d\\'hiver 2030 :'}, {'url': 'https://www.lemonde.fr/actualite-en-continu/', 'content': \"»\\nDans «\\xa0Le Temps d’aimer\\xa0», Katell Quillévéré filme un couple lié par des secrets enfouis\\n«\\xa0Ainsi parlait Zarathoustra et autres récits\\xa0» dans\\xa0«\\xa0La Pléiade\\xa0»\\xa0: regarder Nietzsche en face\\n«\\xa0Le Criminel\\xa0», sur Arte\\xa0: quand Orson Welles incarnait un nazi\\nDans «\\xa0Complément d’enquête\\xa0», une plongée dans l’univers de Cyril Hanouna, le «\\xa0nouveau parrain du PAF\\xa0»\\nLe potager d’intérieur, ce nouvel écran du salon\\nLa sélection lifestyle de la semaine\\xa0: une lampe de génie, des parfums de nuit, un fauteuil égérie…\\nNada Debs, designer libanaise\\xa0: «\\xa0L’œuvre métissée possède une identité neuve, enrichissante pour tous\\xa0»\\nLa «\\xa0Tumblr girl\\xa0», ou quand Publié hier à 18h42, modifié à 05h53\\nLe Monde avec AFP\\nTransports\\xa0: l’Autorité de la concurrence souligne les obstacles à l’arrivée de nouveaux acteurs\\nDans un avis consultatif, l’Autorité de la concurrence souligne la difficulté des autorités organisatrices pour faire émerger des alternatives à la SNCF et leur recours aux cabinets de conseil…\\nPublié hier à 18h35, modifié hier à 19h03\\nSophie Fay\\nArgentine\\xa0: Javier Milei nomme à l’économie Luis Caputo, ancien ministre et expert en finance\\nDurant la campagne présidentielle, Javier Milei, qui se définissait comme candidat antisystème, avait promis de dollariser l’économie du pays, tandis que l’inflation annuelle est de 140\\xa0%.\\n Consulterle journal\\nL’économie française plonge dans le rouge au troisième trimestre, l’inflation ralentit nettement\\n«\\xa0Entre Goldman Sachs et Apple, l’échec est acté et la procédure de divorce engagée\\xa0»\\nCOP28\\xa0: «\\xa0La bascule vers la voiture électrique est urgente\\xa0»\\n«\\xa0Si l’hôpital public a tenu, c’est bien parce que des instances représentatives des salariés ont contribué à trouver des solutions\\xa0»\\nBande de Gaza\\xa0: avant la guerre, un territoire à l’agonie\\nRDC\\xa0: menace sur l’un des plus grands pièges à carbone du monde\\nPourquoi retourne-t-on sur la Lune\\xa0? Publié aujourd’hui à 06h00, modifié à 12h12\\nIsabelle Mandraud\\n«\\xa0Complément d’enquête\\xa0» sur Cyril Hanouna, une plongée dans l’univers du «\\xa0nouveau parrain du PAF\\xa0»\\n«\\xa0Le Monde\\xa0» a pu visionner l’enquête très attendue de Virginie Vilar diffusée jeudi soir sur France\\xa02, qui éclaire, à l’aide de témoignages inédits, les dérives de l’animateur de «\\xa0TPMP\\xa0», les différentes polémiques et son train de vie.\\n Publié hier à 06h00\\nAnne Chemin\\nVous souhaitez consulter un article plus ancien ?\\nÉdition du jour\\nDaté du vendredi 1 décembre\\nServices Le Monde\\nGuides d'achat Le Monde\\nCodes promo\\nLe Monde à l'international\\nServices Partenaires\\nSites du groupe\\nNewsletters du monde\\nApplications Mobiles\\nAbonnement\\nInformations légales le Monde\\nSuivez Le Monde\"}, {'url': 'https://www.francetvinfo.fr/france/', 'content': 'Diffusé le 26/03\\n3 min\\nLe retour de la course des garçons de café, à Paris\\nPrésenté par Bernard Thomasson\\nDiffusé le 23/03\\n2 min\\nMoustique tigre : la dissémination d\\'insectes stériles permet de diminuer le risque de piqûres et de transmission des maladies, selon une étude\\nPrésenté par Anne Le Gall\\nDiffusé le 22/03\\n2 min\\nLa France est-elle \"le pays qui se réchauffe le plus rapidement dans le monde\" ?\\n Pour acheter leur voiture, ils n\\'hésitent plus à passer par des enchères, un type de ventes en augmentation de 26% sur un an.\\nFrance : l’actualité en vidéos\\nEmploi : \"Beaucoup de gens ne vivent pas de leur travail aujourd\\'hui\", déplore le député socialiste Boris Vallaud\\nBoris Vallaud, député\\xa0Parti socialiste (PS) des Landes et président du groupe socialiste à l\\'Assemblée nationale, était l\\'invité des \"4 Vérités\" sur France 2, mercredi 27 mars.\\n le maire d\\'Orléans dénonce l\\'arrivée \"en catimini\" de centaines de sans-abri dans sa ville en provenance de Paris avant les JO\\nSelon le maire d\\'Orléans, un car en provenance de région parisienne arrive toutes les trois semaines à Orléans depuis près d\\'un an, avec à son bord une quarantaine de sans-abri.\\n Épisode cévenol dans l’Hérault : le rythme des précipitations s’intensifie sur le pourtour méditerranéen\\nBiodiversité : dans l\\'Ain, des riverains s\\'opposent au projet d\\'ouverture d’un parc à thème\\nHaute-Savoie : un pilote d\\'hélicoptère au service du Mont-Blanc\\nFrance : l’actualité à écouter\\nCasino : que compte faire la nouvelle équipe à la tête de l\\'enseigne de distribution ?\\n \"\\xa0: échanges tendus et indifférence de la population lors de la visite d\\'Emmanuel Macron\\nÀ près de 10 000 km de Paris, le chef de l\\'État est confronté à chaque pas au défi de l’unité de la Nation, qui est pourtant son mantra.'}, {'url': 'https://www.20minutes.fr/', 'content': \"infos en direct\\n00:49\\n01:38\\n01:47\\n00:59\\n03:40\\nDans l’actu\\nLe direct\\nActualité\\nRégions\\nDivertissement\\nSport\\nTempo\\nHigh-Tech\\nPlanète\\nVie Pro\\nJO 2024\\nGuide d'achat\\nJeux\\nServices\\nLa réforme de l’assurance chômage n’enchante pas du tout les syndicats\\n20 Minutes avec AFP\\nGlucksmann prévient que Trump nous laissera «\\xa0seuls face à Poutine\\xa0»\\nPour Bardella, Aya Nakamura «\\xa0ne peut pas représenter la France\\xa0»\\nL’exécutif va suivre l’avis d’élargir la vaccination\\nCe qu’il faut retenir des déclarations de Gabriel Attal sur TF1\\nMoha La Squale échappe aux assises mais sera jugé en correctionnelle\\nPour des menaces de mort contre Macron, un an de prison avec sursis\\nLa petite vignette verte disparaît (snif), on vous explique tout\\nL'Etat va porter plainte contre l'élève qui a accusé le proviseur du lycée Ravel\\n«\\xa0Lip cuffing\\xa0», la technique pour repulper ses lèvres avec du maquillage\\nSix départements en alerte orange ce jeudi à cause de la tempête Nelson\\nLes trois gardes à vue «\\xa0levées\\xa0» dans l’affaire de la disparition de Lina\\nC'est quoi un geste vraiment écolo ?\\nDans le quotidien de la Marine nationale\\nLes nouveaux PC hybrides Samsung boostent votre productivité\\nVoir les31 jeux\\nVoir monhoroscope\\nAttentat à Moscou\\nGlucksmann prévient que Trump nous laissera «\\xa0seuls face à Poutine\\xa0»\\nLe bilan de l’attentat près de Moscou monte à 143 morts\\nNouvelles frappes aériennes meurtrières au 763e jour de guerre en Ukraine\\nliveGuerre en Ukraine : Guide d'achat\\nIdéal pour le printemps, ce coffre de rangement extérieur est à prix cassé\\nRésultats Loto FDJ: les résultats du tirage du mercredi 27 mars\\nCdiscount brade le prix des smartphones Samsung les plus populaires\\nCuisinez plus facilement grâce à cet Airfryer à moins de 60 euros\\nVille par ville\\nPrévisions météo du jeudi 28 mars 2024 à Paris\\nPrévisions météo du jeudi 28 mars 2024 à Marseille\\nPrévisions météo du jeudi 28 mars 2024 à Toulouse\\nPrévisions météo du jeudi 28 mars 2024 à Lille\\nPrévisions météo du jeudi 28 mars 2024 à Nantes\\nPrévisions météo du jeudi 28 mars 2024 à Lyon\\nPrévisions météo du jeudi 28 mars 2024 à Bordeaux\\nPrévisions météo du jeudi 28 mars 2024 à Montpellier\\nPrévisions météo du jeudi 28 mars 2024 à Nice\\nPrévisions météo du jeudi 28 mars 2024 à Rennes\\nPrévisions météo du jeudi 28 mars 2024 à Strasbourg\\nPartenaires\\nSportune\\nLe Stade de Reims réduit ses pertes mais reste déficitaire\\nBébés et Mamans\\nTétine pour bébé : le guide complet\\nMinutes Maison\\nCaillebotis en bois : une solution simple pour décorer votre terrasse !\\n On a testé pour vous la marche avec le champion de France Aurélien Quinion\\nJusqu’aux Jeux olympiques, nos journalistes vont découvrir plusieurs disciplines auprès des athlètes français\\n00:43\\nAu moins cinq morts dans l’accident d’un car en Allemagne\\n00:54\\nL’appartement de Karl Lagerfeld vendu le double du prix annoncé\\nManu Payet est «\\xa0Kung Fu panda\\xa0» par la voix et par les gestes\\nFree lance son offre de télésurveillance avec Qiara à prix (fra) cassé\\nDivertissement\\n01:38\\nZayn Malik et Ashley Tisdale sont dans le Fil des Stars\\nToute l’actualité people est dans «\\xa020 Minutes\\xa0»\\n01:47\\nJude Law soutient le combat de Judith Godrèche\\nRammstein a bien plagié un groupe français, selon une expertise judiciaire\\n02:11\\nLa mère de Michael Jackson trouve les gestionnaires du patrimoine radins\\nUn double concert hommage à Dalida se prépare à Toulouse pour Rio Loco\\nSport\\nPour Bardella, Aya Nakamura «\\xa0ne peut pas représenter la France\\xa0» aux JO\\nLe président du RN s’oppose à voir chanter Aya Nakamura lors de la cérémonie d’ouverture des JO car elle «\\xa0a été condamnée pour violences conjugales\\xa0»\\nQuels sont les bienfaits de la course à pied ?\\n Rennes ne compte «\\xa0pas se déshabiller\\xa0» pour l'équipe de France olympique\\nDeux ans et demi de prison requis contre Luis Rubiales\\nTerrible chute pour Wout Van Aert, forfait pour le Tour des Flandres\\nEn Images\\nLa programmation des 55e Rencontres photographiques d’Arles en images\\n41 expositions seront présentées au cours de la 55e édition, qui se déroulera du 1er\\xa0juillet au 29\\xa0septembre\\nLes images du pont de Baltimore qui s’est effondré percuté par un navire\\nUn dernier hommage aux obsèques de Frédéric Mitterrand en images\\nQuels princes, princesses et people étaient au Bal de la Rose à Monaco\\xa0?\\nTempo\\n«\\xa0Lip cuffing\\xa0», la technique pour repulper ses lèvres avec du maquillage\\nLes ados sentent le fromage et la chèvre, c’est scientifiquement prouvé\\nUn milliard de repas sont jetés chaque jour dans le monde\\nLe jardin des Tuileries choisi pour la flamme olympique\\nHigh-Tech\\nPourquoi Natasha St-Pier est-elle traitée de «\\xa0Karen\\xa0» depuis le clash\\xa0?\\n Estrosi fait annuler l’installation d’une boutique éphémère Shein à Nice\\nUn milliard de repas sont jetés chaque jour dans le monde\\n«\\xa0Tortionnaires, abomination\\xa0»… Shaka Ponk s’en prend aux pro corrida\\nVie pro\\n00:59\\nStrasbourg compte aller plus loin que le congé menstruel\\n«\\xa0Un stage kebab n’apportera rien\\xa0»… La galère des lycéens sur «\\xa01 jeune 1 solution\\xa0»\\nComment «\\xa0The Climate Workout\\xa0» réinvente la fresque du climat\\nQu’est-ce que le besoin en fonds de roulement (BFR)\\xa0?\\nPodcasts\\nHandicap, maladie\\xa0: Comment l’asso Guy Renard aide les 15-25 ans\\nQue dire (et éviter de dire) à une personne malade de cancer\\xa0?\\n\"}]\u001b[0m\u001b[32;1m\u001b[1;3mVoici quelques-unes des dernières nouvelles en France hier :\n",
      "\n",
      "1. Singapour envisage de créer des îles artificielles pour protéger son territoire contre la montée des eaux.\n",
      "2. Plusieurs départements, dont la Savoie, la Haute-Savoie, l'Isère et les Hautes-Alpes, sont placés en vigilance orange pour pluie-inondations.\n",
      "3. Le nombre de ménages demandeurs de logement social en Île-de-France a pratiquement doublé depuis 2010.\n",
      "4. Environ un tiers des Français craint de ne pas pouvoir offrir de cadeaux à Noël, selon une étude.\n",
      "5. En Chine, quatre enfants sourds ont retrouvé l'audition grâce à la thérapie génique.\n",
      "6. L'UFC-Que Choisir dénonce les pratiques commerciales trompeuses de Meta concernant les données personnelles.\n",
      "7. Le concert de Freeze Corleone au Zénith de Nantes a été interdit par la préfecture.\n",
      "\n",
      "Ces informations sont tirées de différentes sources d'actualités en France.\u001b[0m\n",
      "\n",
      "\u001b[1m> Finished chain.\u001b[0m\n"
     ]
    },
    {
     "data": {
      "text/plain": [
       "{'input': 'Les dernières nouvelles hier en France ?',\n",
       " 'output': \"Voici quelques-unes des dernières nouvelles en France hier :\\n\\n1. Singapour envisage de créer des îles artificielles pour protéger son territoire contre la montée des eaux.\\n2. Plusieurs départements, dont la Savoie, la Haute-Savoie, l'Isère et les Hautes-Alpes, sont placés en vigilance orange pour pluie-inondations.\\n3. Le nombre de ménages demandeurs de logement social en Île-de-France a pratiquement doublé depuis 2010.\\n4. Environ un tiers des Français craint de ne pas pouvoir offrir de cadeaux à Noël, selon une étude.\\n5. En Chine, quatre enfants sourds ont retrouvé l'audition grâce à la thérapie génique.\\n6. L'UFC-Que Choisir dénonce les pratiques commerciales trompeuses de Meta concernant les données personnelles.\\n7. Le concert de Freeze Corleone au Zénith de Nantes a été interdit par la préfecture.\\n\\nCes informations sont tirées de différentes sources d'actualités en France.\"}"
      ]
     },
     "execution_count": 6,
     "metadata": {},
     "output_type": "execute_result"
    }
   ],
   "source": [
    "\n",
    "base_prompt = prompt = ChatPromptTemplate.from_messages([\n",
    "  (\"system\", \"{instructions}\"),\n",
    "  (\"placeholder\", \"{chat_history}\"),\n",
    "  (\"human\", \"{input}\"),\n",
    "  (\"placeholder\", \"{agent_scratchpad}\")]\n",
    ")\n",
    "prompt = base_prompt.partial(instructions=instructions)\n",
    "llm = ChatOpenAI(temperature=0)\n",
    "tavily_tool = TavilySearchResults(max_results=5)\n",
    "tools = [tavily_tool]\n",
    "agent = create_openai_functions_agent(llm, tools, prompt)\n",
    "agent_executor = AgentExecutor(\n",
    "    agent=agent,\n",
    "    tools=tools,\n",
    "    verbose=True,\n",
    ")\n",
    "\n",
    "agent_executor.invoke({\"input\": \"Les dernières nouvelles hier en France ?\"})"
   ]
  }
 ],
 "metadata": {
  "kernelspec": {
   "display_name": "meetup_genai",
   "language": "python",
   "name": "python3"
  },
  "language_info": {
   "codemirror_mode": {
    "name": "ipython",
    "version": 3
   },
   "file_extension": ".py",
   "mimetype": "text/x-python",
   "name": "python",
   "nbconvert_exporter": "python",
   "pygments_lexer": "ipython3",
   "version": "3.10.12"
  }
 },
 "nbformat": 4,
 "nbformat_minor": 2
}
