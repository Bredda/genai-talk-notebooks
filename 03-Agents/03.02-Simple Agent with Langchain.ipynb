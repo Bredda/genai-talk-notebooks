{
 "cells": [
  {
   "cell_type": "markdown",
   "metadata": {},
   "source": [
    "### Agent with tool\n",
    "\n",
    "<img src=\"../assets/agent_tools.png\" alt=\"drawing\" width=\"600\"/>"
   ]
  },
  {
   "cell_type": "markdown",
   "metadata": {},
   "source": [
    "Exemple d'un agent disposant d'un outil de type Recherche internet (via le service Tavily search)"
   ]
  },
  {
   "cell_type": "code",
   "execution_count": 3,
   "metadata": {},
   "outputs": [
    {
     "name": "stdout",
     "output_type": "stream",
     "text": [
      "\n",
      "\n",
      "\u001b[1m> Entering new AgentExecutor chain...\u001b[0m\n",
      "\u001b[32;1m\u001b[1;3m\n",
      "Invoking: `tavily_search_results_json` with `{'query': 'current Prime Minister of France'}`\n",
      "\n",
      "\n",
      "\u001b[0m\u001b[36;1m\u001b[1;3m[{'url': 'https://apnews.com/article/government-and-politics-france-elections-macron-caf60b8d40871435f95be74b90222221', 'content': '(Christophe Archambault/Pool Photo via AP, File)\\nPARIS (AP) — Centrist politician Elisabeth Borne was appointed France’s new prime minister on Monday, becoming only the second woman in history to hold the post.\\nBorne, 61, the labor minister in French President Emmanuel Macron’s previous government, succeeds Jean Castex, whose resignation on Monday was expected after Macron’s reelection last month to a second five-year term.\\n (Gonzalo Fuentes/Pool via AP, File)\\nFILE - French Minister for the Ecological and Inclusive Transition Elisabeth Borne smiles during the government session at the National Assembly as France softens its strict lockdown rules during the outbreak of the coronavirus disease (COVID-19) Tuesday, May 12, 2020 in Paris. (AP Photo/Christophe Ena, File)\\nFILE - French Minister for the Ecological and Inclusive Transition Elisabeth Borne smiles during the government session at the National Assembly as France softens its strict lockdown rules during the outbreak of the coronavirus disease (COVID-19) Tuesday, May 12, 2020 in Paris. (AP Photo/Christophe Ena, File)\\nFILE - French Minister for the Ecological and Inclusive Transition Elisabeth Borne smiles during the government session at the National Assembly as France softens its strict lockdown rules during the outbreak of the coronavirus disease (COVID-19) Tuesday, May 12, 2020 in Paris. (Christophe Archambault/Pool Photo via AP, File)\\nFrench Minister for the Ecological and Inclusive Transition Elisabeth Borne speaks on the coronavirus measures after the weekly cabinet meeting during a press conference at the Hotel Matignon in Paris, Thursday, May 7, 2020.'}, {'url': 'https://www.nytimes.com/2022/05/16/world/europe/macron-prime-minister.html', 'content': 'Only in a situation where the president’s political opponents prevail in parliamentary elections can they force the appointment of a prime minister and cabinet to their liking — a situation that Jean-Luc Mélenchon, the leftist candidate who had a strong showing in the presidential elections, is hoping to achieve in June through a broad left-wing victory.\\n By Norimitsu Onishi and Aurelien Breeden\\nPARIS — President Emmanuel Macron appointed Élisabeth Borne, the low-key minister of labor and a former minister of the environment, as his new prime minister on Monday, in line with his promise to prioritize environmental issues in his second term and a long-expressed wish to select a woman for that role.\\n Advertisement\\nSupported by\\nTaking Aim at Left-Leaning Voters, Macron Names a Woman Prime Minister\\nÉlisabeth Borne, the minister of labor who previously was in charge of the environment, will be the second woman to hold the post in France.\\n She has been in Mr. Macron’s government since 2017, moving to the environment after transportation, and then on to labor issues — key assets for a prime minister who will have to juggle France’s green transition with contentious plans to raise the legal age of retirement.\\n But his failure to do so until now — as well as the all-male cast in the first tier of power around him — was often cited as insufficient efforts by Mr. Macron to advance the place of women in politics.\\n'}, {'url': 'https://www.cnn.com/2022/05/16/europe/france-female-prime-minister-intl/index.html', 'content': 'Paris CNN —. Elisabeth Borne has been named the new Prime Minister of France, the first time in 30 years that a woman has held the position. Borne will replace Jean Castex in the role, the ...'}, {'url': 'https://en.wikipedia.org/wiki/Élisabeth_Borne', 'content': 'At the same time, she expressed support only for left-wing candidates who in her view respect republican values.[29][30] She was elected to Parliament in the second round.[31] Borne offered her resignation as prime minister after the results of the second round, but was rejected by Macron,[32] who instead tasked her to form a new cabinet.[33]\\nFollowing a cabinet reshuffle prompted by the 2022 legislative elections that resulted in a hung parliament,[34] Borne officially formed a minority government and easily survived a motion of no confidence triggered by MPs of the New Ecologic and Social People\\'s Union (NUPES), a broad alliance of left-wing opponents, in response to the Government\\'s refusal to call for a vote of confidence.[35][36]\\n With the French organising committee unable to meet this new demand, France officially withdrew as tournament hosts on 15 May citing lack of governmental financial support as the reason.[39][40][41][42][43]\\nA cabinet reshuffle was conducted in July 2023, which was described as \"strange\" with the fact that longtime allies of Macron were promoted and individuals with little experience were dismissed.[44]\\nOn 8 January 2024, she announced her resignation and was succeeded by education minister Gabriel Attal the following day.[45][46]\\nMP for Calvados\\'s 6th constituency, 2024–present[edit]\\nNews media reported that, upon her resignation, Borne turned down an invitation from President Macron to become Defense minister in the incoming Attal government.\\n On 16 May 2022, President Macron appointed her as the next prime minister after Castex\\'s resignation, as it is the tradition following the presidential elections in France.[3]\\nBorne led the centrist Ensemble coalition into the 2022 legislative election which resulted in a hung parliament: enjoying a 115-seat majority before the election, the ruling coalition was reduced to 251 seats (from 346), still emerging as the largest bloc in Parliament but 38 short of a majority. In that capacity, she led efforts to pass a long-term energy planning bill aimed at increasing security of supply and a clean mobility bill committing the country to reaching carbon neutrality in the transport sector by 2050.[19]\\nIn 2019, Borne opposed France\\'s ratification of the European Union–Mercosur free trade agreement.[20]\\nSince 2020 Borne has additionally been a member of Territories of Progress, a centre-left party allied with LREM.[21] In breaking with precedent by other French prime ministers who refrained from suing journalists, Borne asked a court in May 2023 to force the L\\'Archipel publishing house to cut about 200 lines in future editions of \"La Secrète\" (The Secretive One), a biography written by the French journalist Bérengère Bonte and mentioning intimate details of her private life.[51]\\nBorne is of Jewish descent.[52][53][54]\\nHonours[edit]\\nSee also[edit]\\nReferences[edit]\\nExternal links[edit]'}, {'url': 'https://www.ft.com/content/3aaf7bee-04c4-4c20-a338-98d9505995a1', 'content': 'Accessibility help Skip to content. French president Emmanuel Macron has named his labour minister Élisabeth Borne as prime minister, opting for an experienced technocrat from the political left ...'}]\u001b[0m\u001b[32;1m\u001b[1;3mLe Premier Ministre actuel de la France est Élisabeth Borne.\u001b[0m\n",
      "\n",
      "\u001b[1m> Finished chain.\u001b[0m\n"
     ]
    },
    {
     "data": {
      "text/plain": [
       "{'input': \"Qui est aujourd'hui le premier ministre de la France ?\",\n",
       " 'output': 'Le Premier Ministre actuel de la France est Élisabeth Borne.'}"
      ]
     },
     "execution_count": 3,
     "metadata": {},
     "output_type": "execute_result"
    }
   ],
   "source": [
    "from dotenv import load_dotenv\n",
    "load_dotenv()\n",
    "from langchain_community.tools.tavily_search import TavilySearchResults\n",
    "from langchain.agents import AgentExecutor, create_openai_functions_agent\n",
    "from langchain_openai import ChatOpenAI\n",
    "from langchain_core.prompts import (\n",
    "    ChatPromptTemplate\n",
    ")\n",
    "instructions = \"\"\"You are an assistant.\"\"\"\n",
    "base_prompt = prompt = ChatPromptTemplate.from_messages([\n",
    "  (\"system\", \"{instructions}\"),\n",
    "  (\"placeholder\", \"{chat_history}\"),\n",
    "  (\"human\", \"{input}\"),\n",
    "  (\"placeholder\", \"{agent_scratchpad}\")]\n",
    ")\n",
    "prompt = base_prompt.partial(instructions=instructions)\n",
    "llm = ChatOpenAI(temperature=0)\n",
    "tavily_tool = TavilySearchResults(max_results=5)\n",
    "tools = [tavily_tool]\n",
    "agent = create_openai_functions_agent(llm, tools, prompt)\n",
    "agent_executor = AgentExecutor(\n",
    "    agent=agent,\n",
    "    tools=tools,\n",
    "    verbose=True,\n",
    ")\n",
    "\n",
    "agent_executor.invoke({\"input\": \"Qui est aujourd'hui le premier ministre de la France ?\"})"
   ]
  }
 ],
 "metadata": {
  "kernelspec": {
   "display_name": "meetup_genai",
   "language": "python",
   "name": "python3"
  },
  "language_info": {
   "codemirror_mode": {
    "name": "ipython",
    "version": 3
   },
   "file_extension": ".py",
   "mimetype": "text/x-python",
   "name": "python",
   "nbconvert_exporter": "python",
   "pygments_lexer": "ipython3",
   "version": "3.10.12"
  }
 },
 "nbformat": 4,
 "nbformat_minor": 2
}
